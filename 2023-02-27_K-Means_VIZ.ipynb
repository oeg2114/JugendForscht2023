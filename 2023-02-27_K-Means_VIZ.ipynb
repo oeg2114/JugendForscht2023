{
 "cells": [
  {
   "cell_type": "markdown",
   "metadata": {},
   "source": [
    "# K-means-Clustering - Visualisierung\n",
    "\n",
    "#### Jugend Forscht - Projekt: \"KI-unterstützte Fernerkundung - ein Verfahren hoher Genauigkeit?\"\n",
    "##### Jasper Eggert, Januar 2023"
   ]
  },
  {
   "cell_type": "code",
   "execution_count": 7,
   "metadata": {
    "pycharm": {
     "name": "#%%\n"
    }
   },
   "outputs": [
    {
     "name": "stdout",
     "output_type": "stream",
     "text": [
      "(300, 2)\n",
      "[0 1 1 1 2 2 1 1 2 1 0 2 1 2 2 2 1 1 1 0 0 0 1 1 1 1 0 0 2 2 2 2 0 0 0 1 0\n",
      " 2 1 0 2 0 0 1 0 2 1 1 2 0 2 0 0 0 1 2 0 0 2 2 0 2 0 0 2 1 1 2 2 1 0 0 0 1\n",
      " 1 1 2 2 2 2 0 2 1 0 0 2 0 0 2 0 0 1 1 2 0 0 0 0 2 2 0 1 2 2 2 2 0 2 1 2 0\n",
      " 0 2 0 1 2 1 1 2 2 0 1 0 2 2 1 1 1 0 1 0 0 0 1 0 0 0 2 2 0 0 2 2 1 2 1 2 0\n",
      " 2 0 2 1 1 0 1 2 1 0 1 1 0 0 2 1 1 2 2 2 0 0 0 1 1 1 2 0 2 1 1 1 1 2 1 0 0\n",
      " 0 0 0 1 0 1 2 2 2 1 2 1 0 0 2 0 1 1 2 2 0 2 0 1 2 0 0 0 1 0 2 2 1 1 0 2 1\n",
      " 2 1 2 2 2 1 1 2 2 2 2 1 0 2 1 2 0 0 0 1 1 1 0 0 1 0 1 0 1 1 1 0 1 2 2 0 2\n",
      " 1 2 0 1 1 1 2 0 2 1 2 2 1 0 0 2 2 1 1 2 1 1 2 1 2 1 0 0 0 1 1 1 2 2 2 1 0\n",
      " 0 1 0 2]\n"
     ]
    },
    {
     "data": {
      "text/plain": "<Figure size 432x288 with 1 Axes>",
      "image/png": "[encoded data removed]"
     },
     "metadata": {
      "needs_background": "light"
     },
     "output_type": "display_data"
    }
   ],
   "source": [
    "import matplotlib.pyplot as plt\n",
    "from sklearn.datasets import make_blobs\n",
    "from sklearn.cluster import KMeans\n",
    "from sklearn.preprocessing import StandardScaler\n",
    "import numpy as np\n",
    "\n",
    "features, true_labels = make_blobs(n_samples=300)\n",
    "\n",
    "print(features.shape)\n",
    "kmeans = KMeans(3)\n",
    "label = kmeans.fit_predict(features)\n",
    "kmeans.labels_\n",
    "print(label)\n",
    "# Visualisierung der Cluster-Ergebnisse:\n",
    "u_labels = np.unique(label)\n",
    "centroids = kmeans.cluster_centers_\n",
    "\n",
    "for i in u_labels:\n",
    "    plt.scatter(features[label == i , 0] , features[label == i , 1] , label = i)\n",
    "plt.scatter(centroids[:,0], centroids[:,1], s= 10, color='black')\n",
    "plt.legend()\n",
    "plt.show()"
   ]
  }
 ],
 "metadata": {
  "kernelspec": {
   "display_name": "Python 3",
   "language": "python",
   "name": "python3"
  },
  "language_info": {
   "codemirror_mode": {
    "name": "ipython",
    "version": 3
   },
   "file_extension": ".py",
   "mimetype": "text/x-python",
   "name": "python",
   "nbconvert_exporter": "python",
   "pygments_lexer": "ipython3",
   "version": "3.6.13"
  }
 },
 "nbformat": 4,
 "nbformat_minor": 1
}